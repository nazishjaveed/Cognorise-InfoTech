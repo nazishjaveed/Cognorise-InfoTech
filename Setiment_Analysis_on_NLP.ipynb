{
 "cells": [
  {
   "cell_type": "markdown",
   "metadata": {
    "id": "nHccszTF4HMd"
   },
   "source": [
    "# <div style=\"text-align: center;\"><span style=\"color: orange; background-color: #808000; font-family: 'Times New Roman', serif; font-size: 44px; font-weight: bold; padding: 10px; border-radius: 10px; text-shadow: 4px 5px 6px rgba(0, 0, 0, 0.5);\">Sentiment Analysis of NLP</span></div>\n"
   ]
  },
  {
   "cell_type": "markdown",
   "metadata": {
    "id": "O-Zo_jhp25kG"
   },
   "source": [
    "> # <span style=\"color: #808000\">Sentiment Analysis of NLP</span> 🏡💰\n",
    "![](https://up.yimg.com/ib/th?id=OIP.xhbmBdR3enTVb0IMfgffiAHaDX&pid=Api&rs=1&c=1&qlt=95&w=195&h=88)"
   ]
  },
  {
   "cell_type": "markdown",
   "metadata": {},
   "source": [
    "##  <span style=\"color: #FF4500;\"></span> <span style=\"color: orange; font-weight: bold;\"> Methodology of the Notebook</span>\n",
    "1. **Introduction**:\n",
    "   - Briefly introduce the topic of sentiment analysis and its importance in understanding public opinion. 📈\n",
    "   - Provide context about the IMDB dataset and its significance as a benchmark dataset for sentiment analysis. 📊\n",
    "\n",
    "2. **Dataset Overview**:\n",
    "   - Describe the IMDB dataset, including the number of samples, the structure of the data, and the sentiment labels (positive/negative). 📝\n",
    "   - Show some examples of positive and negative reviews from the dataset. 👍👎\n",
    "\n",
    "3. **Data Preprocessing**:\n",
    "   - Text Cleaning: Remove HTML tags, special characters, and punctuation from the reviews. 🧹\n",
    "   - Tokenization: Split the text into individual words or tokens. 📝\n",
    "   - Padding: Ensure all sequences have the same length by padding or truncating as necessary. 📏\n",
    "   - Encoding: Convert words to numerical representations using techniques like one-hot encoding or word embeddings. 🔢\n",
    "\n",
    "4. **Model Building**:\n",
    "   - Explain the architecture of the sentiment analysis model, which could be based on recurrent neural networks (RNNs), convolutional neural networks (CNNs), or transformer models like BERT. 🤖\n",
    "   - Discuss the rationale behind the chosen architecture and any hyperparameters tuned during model development. 🧠\n",
    "   - Split the dataset into training, validation, and test sets for model evaluation. 📊\n",
    "\n",
    "5. **Model Training**:\n",
    "   - Train the sentiment analysis model using the training data. 🚀\n",
    "   - Monitor training progress by tracking metrics like loss and accuracy on the validation set. 📉\n",
    "   - Visualize training history to analyze model performance and identify potential overfitting or underfitting. 📊\n",
    "\n",
    "6. **Model Evaluation**:\n",
    "   - Evaluate the trained model on the test dataset to assess its generalization performance. ✔️\n",
    "   - Report metrics such as accuracy, precision, recall, and F1-score to quantify the model's effectiveness in classifying sentiment. 📈\n",
    "\n",
    "7. **Inference and Prediction**:\n",
    "   - Demonstrate how to use the trained model for making predictions on new or unseen movie reviews. 🎥\n",
    "   - Show examples of predicting sentiment for custom input text using the deployed model. 💬\n",
    "\n",
    "8. **Conclusion**:\n",
    "   - Summarize key findings from the sentiment analysis experiment. 📝\n",
    "   - Discuss potential areas for improvement or future research in sentiment analysis using NLP techniques. 📈\n",
    "   - Highlight the importance of sentiment analysis in various applications, such as product reviews, social media monitoring, and customer feedback analysis. 🌐\n",
    "\n",
    "9. **References**:\n",
    "   - Provide citations and links to relevant papers, articles, and resources used during the development of the sentiment analysis model. 📚\n",
    "   - Acknowledge any external libraries, frameworks, or pre-trained models utilized in the project. 🛠️"
   ]
  },
  {
   "cell_type": "markdown",
   "metadata": {},
   "source": [
    "##  <span style=\"color: #FF4500;\"></span> <span style=\"color: orange; font-weight: bold;\"> About Dataset </span>"
   ]
  },
  {
   "cell_type": "markdown",
   "metadata": {},
   "source": [
    "The IMDB dataset is a widely-used benchmark 🏆 dataset for sentiment analysis tasks in natural language processing. It consists of movie reviews accompanied by sentiment labels indicating whether the review expresses a positive or negative sentiment. With tens of thousands of reviews, it provides a diverse range of text data suitable for training and evaluating sentiment analysis models. 📈🎬"
   ]
  },
  {
   "cell_type": "markdown",
   "metadata": {},
   "source": [
    "##  <span style=\"color: #FF4500;\"></span> <span style=\"color: orange; font-weight: bold;\"> Connect with me :</span>\n",
    "[![GitHub](https://img.shields.io/badge/GitHub-Profile-blue?style=for-the-badge&logo=github)](https://github.com/nazishjaveed) \n",
    "\n",
    "[![Kaggle](https://img.shields.io/badge/Kaggle-Profile-blue?style=for-the-badge&logo=kaggle)](https://www.kaggle.com/nazishjaveed) \n",
    "\n",
    "[![LinkedIn](https://img.shields.io/badge/LinkedIn-Profile-blue?style=for-the-badge&logo=linkedin)](https://www.linkedin.com/in/nazish-javeed-395461271/)"
   ]
  },
  {
   "cell_type": "markdown",
   "metadata": {},
   "source": [
    " # <span style=\"color: #FF4500;\">Step 1:</span> <span style=\"color: orange; font-weight: bold;\">Import Libraries</span>"
   ]
  },
  {
   "cell_type": "code",
   "execution_count": null,
   "metadata": {
    "id": "4OWew86e1dF2"
   },
   "outputs": [],
   "source": [
    "import matplotlib.pyplot as plt\n",
    "import os\n",
    "import re\n",
    "import shutil\n",
    "import string\n",
    "import tensorflow as tf\n",
    "\n",
    "from tensorflow.keras import layers\n",
    "from tensorflow.keras import losses"
   ]
  },
  {
   "cell_type": "markdown",
   "metadata": {
    "id": "0OEubV_xWQ6J"
   },
   "source": [
    "##  <span style=\"color: #FF4500;\"></span> <span style=\"color: orange; font-weight: bold;\"> About Libraries </span>\n",
    "**matplotlib** 📊 - Python plotting library for creating static, interactive, and animated visualizations.\n",
    "\n",
    "**os** 🖥️ - Provides a portable way to interact with the operating system, allowing access to file systems and environment variables.\n",
    "\n",
    "**re** 🔍 - Regular expression operations library for pattern matching and text manipulation.\n",
    "\n",
    "**shutil** 📁 - High-level file operations library for copying, moving, and deleting files and directories.\n",
    "\n",
    "**string** 🔤 - Offers string manipulation utilities, including constants and functions for working with strings.\n",
    "\n",
    "**TensorFlow** 🤖 - Open-source machine learning framework for building and training neural networks.\n",
    "\n",
    "**Keras** 🧠 - High-level neural networks API, running on top of TensorFlow or other backends, simplifying the process of building and training models."
   ]
  },
  {
   "cell_type": "code",
   "execution_count": null,
   "metadata": {
    "colab": {
     "base_uri": "https://localhost:8080/"
    },
    "id": "M-UC6mM81zXv",
    "outputId": "75727044-9f39-40ef-ad10-1977014027d2"
   },
   "outputs": [
    {
     "name": "stdout",
     "output_type": "stream",
     "text": [
      "2.15.0\n"
     ]
    }
   ],
   "source": [
    "print(tf.__version__) #\"Check the TensorFlow Version\""
   ]
  },
  {
   "cell_type": "markdown",
   "metadata": {},
   "source": [
    " # <span style=\"color: #FF4500;\">Step 2:</span> <span style=\"color: orange; font-weight: bold;\">Download The IMDB dtaset</span>"
   ]
  },
  {
   "cell_type": "code",
   "execution_count": null,
   "metadata": {
    "colab": {
     "base_uri": "https://localhost:8080/"
    },
    "id": "FVsvnfON17iS",
    "outputId": "f43b4595-d2be-438b-8b14-7b52973e3fa5"
   },
   "outputs": [
    {
     "name": "stdout",
     "output_type": "stream",
     "text": [
      "Downloading data from https://ai.stanford.edu/~amaas/data/sentiment/aclImdb_v1.tar.gz\n",
      "84125825/84125825 [==============================] - 3s 0us/step\n"
     ]
    }
   ],
   "source": [
    "url = \"https://ai.stanford.edu/~amaas/data/sentiment/aclImdb_v1.tar.gz\"\n",
    "\n",
    "dataset = tf.keras.utils.get_file(\"aclImdb_v1\", url,\n",
    "                                    untar=True, cache_dir='.',\n",
    "                                    cache_subdir='')\n",
    "\n",
    "dataset_dir = os.path.join(os.path.dirname(dataset), 'aclImdb')"
   ]
  },
  {
   "cell_type": "code",
   "execution_count": null,
   "metadata": {
    "colab": {
     "base_uri": "https://localhost:8080/"
    },
    "id": "P09469J92Tor",
    "outputId": "942f1d61-793d-4b68-cc4d-0991180b51b7"
   },
   "outputs": [
    {
     "data": {
      "text/plain": [
       "['train', 'imdb.vocab', 'imdbEr.txt', 'README', 'test']"
      ]
     },
     "execution_count": 4,
     "metadata": {},
     "output_type": "execute_result"
    }
   ],
   "source": [
    "os.listdir(dataset_dir) # \"Listing Contents of Dataset Directory\""
   ]
  },
  {
   "cell_type": "code",
   "execution_count": null,
   "metadata": {
    "colab": {
     "base_uri": "https://localhost:8080/"
    },
    "id": "dfl94fCR2aOY",
    "outputId": "cdda47c7-fec6-41ec-aa6b-2298900e2b5b"
   },
   "outputs": [
    {
     "data": {
      "text/plain": [
       "['urls_neg.txt',\n",
       " 'neg',\n",
       " 'labeledBow.feat',\n",
       " 'pos',\n",
       " 'urls_pos.txt',\n",
       " 'unsupBow.feat',\n",
       " 'unsup',\n",
       " 'urls_unsup.txt']"
      ]
     },
     "execution_count": 5,
     "metadata": {},
     "output_type": "execute_result"
    }
   ],
   "source": [
    "train_dir = os.path.join(dataset_dir, 'train') #\"Listing Contents of Training Directory within Dataset\"\n",
    "os.listdir(train_dir)"
   ]
  },
  {
   "cell_type": "code",
   "execution_count": null,
   "metadata": {
    "colab": {
     "base_uri": "https://localhost:8080/"
    },
    "id": "0wlVbRdz2eaU",
    "outputId": "57609652-3823-4a3f-f317-78fcbc8ec8a6"
   },
   "outputs": [
    {
     "name": "stdout",
     "output_type": "stream",
     "text": [
      "Rachel Griffiths writes and directs this award winning short film. A heartwarming story about coping with grief and cherishing the memory of those we've loved and lost. Although, only 15 minutes long, Griffiths manages to capture so much emotion and truth onto film in the short space of time. Bud Tingwell gives a touching performance as Will, a widower struggling to cope with his wife's death. Will is confronted by the harsh reality of loneliness and helplessness as he proceeds to take care of Ruth's pet cow, Tulip. The film displays the grief and responsibility one feels for those they have loved and lost. Good cinematography, great direction, and superbly acted. It will bring tears to all those who have lost a loved one, and survived.\n"
     ]
    }
   ],
   "source": [
    "sample_file = os.path.join(train_dir, 'pos/1181_9.txt') # \"Reading and Printing Contents of a Sample Positive Review File\"\n",
    "with open(sample_file) as f:\n",
    "  print(f.read())"
   ]
  },
  {
   "cell_type": "markdown",
   "metadata": {
    "id": "4EcrJYJJabag"
   },
   "source": []
  },
  {
   "cell_type": "markdown",
   "metadata": {},
   "source": [
    " # <span style=\"color: #FF4500;\">Step 3:</span> <span style=\"color: orange; font-weight: bold;\">Load the dataset</span>"
   ]
  },
  {
   "cell_type": "code",
   "execution_count": null,
   "metadata": {
    "id": "x15oMf1l3ecE"
   },
   "outputs": [],
   "source": [
    "remove_dir = os.path.join(train_dir, 'unsup') # \"Removing 'unsup' Directory from Training Dataset\"\n",
    "shutil.rmtree(remove_dir)"
   ]
  },
  {
   "cell_type": "code",
   "execution_count": null,
   "metadata": {
    "colab": {
     "base_uri": "https://localhost:8080/"
    },
    "id": "GrDOqgLr3jea",
    "outputId": "6a0bfb79-6467-471b-be1c-ed9d7e0e2f3f"
   },
   "outputs": [
    {
     "name": "stdout",
     "output_type": "stream",
     "text": [
      "Found 25000 files belonging to 2 classes.\n",
      "Using 20000 files for training.\n"
     ]
    }
   ],
   "source": [
    "batch_size = 32   # \"Creating Raw Training Dataset for Text Classification using TensorFlow\"\n",
    "seed = 42\n",
    "\n",
    "raw_train_ds = tf.keras.utils.text_dataset_from_directory(\n",
    "    'aclImdb/train',\n",
    "    batch_size=batch_size,\n",
    "    validation_split=0.2,\n",
    "    subset='training',\n",
    "    seed=seed)"
   ]
  },
  {
   "cell_type": "code",
   "execution_count": null,
   "metadata": {
    "colab": {
     "base_uri": "https://localhost:8080/"
    },
    "id": "R_ViYXzo3p3a",
    "outputId": "0d9eb508-93ac-4e76-dafa-d2663488756a"
   },
   "outputs": [
    {
     "name": "stdout",
     "output_type": "stream",
     "text": [
      "Review b'\"Pandemonium\" is a horror movie spoof that comes off more stupid than funny. Believe me when I tell you, I love comedies. Especially comedy spoofs. \"Airplane\", \"The Naked Gun\" trilogy, \"Blazing Saddles\", \"High Anxiety\", and \"Spaceballs\" are some of my favorite comedies that spoof a particular genre. \"Pandemonium\" is not up there with those films. Most of the scenes in this movie had me sitting there in stunned silence because the movie wasn\\'t all that funny. There are a few laughs in the film, but when you watch a comedy, you expect to laugh a lot more than a few times and that\\'s all this film has going for it. Geez, \"Scream\" had more laughs than this film and that was more of a horror film. How bizarre is that?<br /><br />*1/2 (out of four)'\n",
      "Label 0\n",
      "Review b\"David Mamet is a very interesting and a very un-equal director. His first movie 'House of Games' was the one I liked best, and it set a series of films with characters whose perspective of life changes as they get into complicated situations, and so does the perspective of the viewer.<br /><br />So is 'Homicide' which from the title tries to set the mind of the viewer to the usual crime drama. The principal characters are two cops, one Jewish and one Irish who deal with a racially charged area. The murder of an old Jewish shop owner who proves to be an ancient veteran of the Israeli Independence war triggers the Jewish identity in the mind and heart of the Jewish detective.<br /><br />This is were the flaws of the film are the more obvious. The process of awakening is theatrical and hard to believe, the group of Jewish militants is operatic, and the way the detective eventually walks to the final violent confrontation is pathetic. The end of the film itself is Mamet-like smart, but disappoints from a human emotional perspective.<br /><br />Joe Mantegna and William Macy give strong performances, but the flaws of the story are too evident to be easily compensated.\"\n",
      "Label 0\n",
      "Review b'Great documentary about the lives of NY firefighters during the worst terrorist attack of all time.. That reason alone is why this should be a must see collectors item.. What shocked me was not only the attacks, but the\"High Fat Diet\" and physical appearance of some of these firefighters. I think a lot of Doctors would agree with me that,in the physical shape they were in, some of these firefighters would NOT of made it to the 79th floor carrying over 60 lbs of gear. Having said that i now have a greater respect for firefighters and i realize becoming a firefighter is a life altering job. The French have a history of making great documentary\\'s and that is what this is, a Great Documentary.....'\n",
      "Label 1\n"
     ]
    }
   ],
   "source": [
    "for text_batch, label_batch in raw_train_ds.take(1): # Displaying a Sample Batch of Reviews and Corresponding Labels from Raw Training Dataset\n",
    "  for i in range(3):\n",
    "    print(\"Review\", text_batch.numpy()[i])\n",
    "    print(\"Label\", label_batch.numpy()[i])"
   ]
  },
  {
   "cell_type": "code",
   "execution_count": null,
   "metadata": {
    "colab": {
     "base_uri": "https://localhost:8080/"
    },
    "id": "kpOm6qei3sWQ",
    "outputId": "f26f2cd1-ecb5-4723-e37f-98fd4600c7d0"
   },
   "outputs": [
    {
     "name": "stdout",
     "output_type": "stream",
     "text": [
      "Label 0 corresponds to neg\n",
      "Label 1 corresponds to pos\n"
     ]
    }
   ],
   "source": [
    "print(\"Label 0 corresponds to\", raw_train_ds.class_names[0])  # \"Mapping Labels to Class Names in the Raw Training Dataset\"\n",
    "print(\"Label 1 corresponds to\", raw_train_ds.class_names[1])"
   ]
  },
  {
   "cell_type": "code",
   "execution_count": null,
   "metadata": {
    "colab": {
     "base_uri": "https://localhost:8080/"
    },
    "id": "M2_2vUJx3uwK",
    "outputId": "f0428017-96df-4302-f948-1780a63f3fd3"
   },
   "outputs": [
    {
     "name": "stdout",
     "output_type": "stream",
     "text": [
      "Found 25000 files belonging to 2 classes.\n",
      "Using 5000 files for validation.\n"
     ]
    }
   ],
   "source": [
    "raw_val_ds = tf.keras.utils.text_dataset_from_directory(   # \"Creating Raw Validation Dataset for Text Classification using TensorFlow\"\n",
    "    'aclImdb/train',\n",
    "    batch_size=batch_size,\n",
    "    validation_split=0.2,\n",
    "    subset='validation',\n",
    "    seed=seed)"
   ]
  },
  {
   "cell_type": "code",
   "execution_count": null,
   "metadata": {
    "colab": {
     "base_uri": "https://localhost:8080/"
    },
    "id": "TlERM0rH312x",
    "outputId": "69aa3666-b2ca-4d8c-c500-9e3e2fdf363e"
   },
   "outputs": [
    {
     "name": "stdout",
     "output_type": "stream",
     "text": [
      "Found 25000 files belonging to 2 classes.\n"
     ]
    }
   ],
   "source": [
    "raw_test_ds = tf.keras.utils.text_dataset_from_directory( # Creating Raw Test Dataset for Text Classification using TensorFlow\n",
    "    'aclImdb/test',\n",
    "    batch_size=batch_size)"
   ]
  },
  {
   "cell_type": "markdown",
   "metadata": {},
   "source": [
    " # <span style=\"color: #FF4500;\">Step 4:</span> <span style=\"color: orange; font-weight: bold;\">Prepare The Dataset for training</span>"
   ]
  },
  {
   "cell_type": "code",
   "execution_count": null,
   "metadata": {
    "id": "7ZhgujIH35qu"
   },
   "outputs": [],
   "source": [
    "def custom_standardization(input_data):           # \"Custom Text Standardization Function for Preprocessing\"\n",
    "  lowercase = tf.strings.lower(input_data)\n",
    "  stripped_html = tf.strings.regex_replace(lowercase, '<br />', ' ')\n",
    "  return tf.strings.regex_replace(stripped_html,\n",
    "                                  '[%s]' % re.escape(string.punctuation),\n",
    "                                  '')"
   ]
  },
  {
   "cell_type": "code",
   "execution_count": null,
   "metadata": {
    "id": "qFPh5rvU38-s"
   },
   "outputs": [],
   "source": [
    "max_features = 10000          # \"Text Vectorization Layer Configuration for Text Classification\"\n",
    "sequence_length = 250\n",
    "\n",
    "vectorize_layer = layers.TextVectorization(\n",
    "    standardize=custom_standardization,\n",
    "    max_tokens=max_features,\n",
    "    output_mode='int',\n",
    "    output_sequence_length=sequence_length)"
   ]
  },
  {
   "cell_type": "code",
   "execution_count": null,
   "metadata": {
    "id": "2Zp_tgto3_wx"
   },
   "outputs": [],
   "source": [
    "# Make a text-only dataset (without labels), then call adapt   # Adapting Text Vectorization Layer to Training Data\n",
    "train_text = raw_train_ds.map(lambda x, y: x)\n",
    "vectorize_layer.adapt(train_text)"
   ]
  },
  {
   "cell_type": "code",
   "execution_count": null,
   "metadata": {
    "id": "x43BEGOh4Ctc"
   },
   "outputs": [],
   "source": [
    "def vectorize_text(text, label):       # Function to Vectorize Text Data with Labels\n",
    "  text = tf.expand_dims(text, -1)\n",
    "  return vectorize_layer(text), label"
   ]
  },
  {
   "cell_type": "code",
   "execution_count": null,
   "metadata": {
    "colab": {
     "base_uri": "https://localhost:8080/"
    },
    "id": "UpdvYw3Y4F5D",
    "outputId": "d6ccbeec-8c69-4257-c898-a28303681be1"
   },
   "outputs": [
    {
     "name": "stdout",
     "output_type": "stream",
     "text": [
      "Review tf.Tensor(b'Great movie - especially the music - Etta James - \"At Last\". This speaks volumes when you have finally found that special someone.', shape=(), dtype=string)\n",
      "Label neg\n",
      "Vectorized review (<tf.Tensor: shape=(1, 250), dtype=int64, numpy=\n",
      "array([[  86,   17,  260,    2,  222,    1,  571,   31,  229,   11, 2418,\n",
      "           1,   51,   22,   25,  404,  251,   12,  306,  282,    0,    0,\n",
      "           0,    0,    0,    0,    0,    0,    0,    0,    0,    0,    0,\n",
      "           0,    0,    0,    0,    0,    0,    0,    0,    0,    0,    0,\n",
      "           0,    0,    0,    0,    0,    0,    0,    0,    0,    0,    0,\n",
      "           0,    0,    0,    0,    0,    0,    0,    0,    0,    0,    0,\n",
      "           0,    0,    0,    0,    0,    0,    0,    0,    0,    0,    0,\n",
      "           0,    0,    0,    0,    0,    0,    0,    0,    0,    0,    0,\n",
      "           0,    0,    0,    0,    0,    0,    0,    0,    0,    0,    0,\n",
      "           0,    0,    0,    0,    0,    0,    0,    0,    0,    0,    0,\n",
      "           0,    0,    0,    0,    0,    0,    0,    0,    0,    0,    0,\n",
      "           0,    0,    0,    0,    0,    0,    0,    0,    0,    0,    0,\n",
      "           0,    0,    0,    0,    0,    0,    0,    0,    0,    0,    0,\n",
      "           0,    0,    0,    0,    0,    0,    0,    0,    0,    0,    0,\n",
      "           0,    0,    0,    0,    0,    0,    0,    0,    0,    0,    0,\n",
      "           0,    0,    0,    0,    0,    0,    0,    0,    0,    0,    0,\n",
      "           0,    0,    0,    0,    0,    0,    0,    0,    0,    0,    0,\n",
      "           0,    0,    0,    0,    0,    0,    0,    0,    0,    0,    0,\n",
      "           0,    0,    0,    0,    0,    0,    0,    0,    0,    0,    0,\n",
      "           0,    0,    0,    0,    0,    0,    0,    0,    0,    0,    0,\n",
      "           0,    0,    0,    0,    0,    0,    0,    0,    0,    0,    0,\n",
      "           0,    0,    0,    0,    0,    0,    0,    0,    0,    0,    0,\n",
      "           0,    0,    0,    0,    0,    0,    0,    0]])>, <tf.Tensor: shape=(), dtype=int32, numpy=0>)\n"
     ]
    }
   ],
   "source": [
    "# retrieve a batch (of 32 reviews and labels) from the dataset\n",
    "text_batch, label_batch = next(iter(raw_train_ds))\n",
    "first_review, first_label = text_batch[0], label_batch[0] # \"Displaying a Batch of Reviews and Labels, along with their Vectorized Forms\"\n",
    "print(\"Review\", first_review)\n",
    "print(\"Label\", raw_train_ds.class_names[first_label])\n",
    "print(\"Vectorized review\", vectorize_text(first_review, first_label))"
   ]
  },
  {
   "cell_type": "code",
   "execution_count": null,
   "metadata": {
    "colab": {
     "base_uri": "https://localhost:8080/"
    },
    "id": "59u0tLLr4Jpi",
    "outputId": "b159f03c-3162-4e4a-f350-00261d349df0"
   },
   "outputs": [
    {
     "name": "stdout",
     "output_type": "stream",
     "text": [
      "1287 --->  silent\n",
      " 313 --->  night\n",
      "Vocabulary size: 10000\n"
     ]
    }
   ],
   "source": [
    "print(\"1287 ---> \",vectorize_layer.get_vocabulary()[1287]) # \"Displaying Vocabulary and its Size from Text Vectorization Layer\"\n",
    "print(\" 313 ---> \",vectorize_layer.get_vocabulary()[313])\n",
    "print('Vocabulary size: {}'.format(len(vectorize_layer.get_vocabulary())))"
   ]
  },
  {
   "cell_type": "code",
   "execution_count": null,
   "metadata": {
    "id": "89dMMbIe4Occ"
   },
   "outputs": [],
   "source": [
    "train_ds = raw_train_ds.map(vectorize_text) # \"Vectorizing Raw Datasets for Training, Validation, and Testing\"\n",
    "val_ds = raw_val_ds.map(vectorize_text)\n",
    "test_ds = raw_test_ds.map(vectorize_text)"
   ]
  },
  {
   "cell_type": "markdown",
   "metadata": {},
   "source": [
    "# <span style=\"color: #FF4500;\">Step 5:</span> <span style=\"color: orange; font-weight: bold;\">Configure The Dataset For Performane</span>"
   ]
  },
  {
   "cell_type": "code",
   "execution_count": null,
   "metadata": {
    "id": "mZFMh-jN4UTE"
   },
   "outputs": [],
   "source": [
    "AUTOTUNE = tf.data.AUTOTUNE # # TensorFlow Dataset Caching and Prefetching Optimization\n",
    "\n",
    "\n",
    "train_ds = train_ds.cache().prefetch(buffer_size=AUTOTUNE)\n",
    "val_ds = val_ds.cache().prefetch(buffer_size=AUTOTUNE)\n",
    "test_ds = test_ds.cache().prefetch(buffer_size=AUTOTUNE)"
   ]
  },
  {
   "cell_type": "markdown",
   "metadata": {},
   "source": [
    "# <span style=\"color: #FF4500;\">Step 6:</span> <span style=\"color: orange; font-weight: bold;\">Create The Model</span>"
   ]
  },
  {
   "cell_type": "code",
   "execution_count": null,
   "metadata": {
    "id": "oddvRxOD4bWB"
   },
   "outputs": [],
   "source": [
    "embedding_dim = 16 # Initialization of Embedding Dimension\n"
   ]
  },
  {
   "cell_type": "markdown",
   "metadata": {
    "id": "q0gOcgIfkvti"
   },
   "source": [
    "\n",
    "The provided code defines a simple sequential model using Keras layers for a text classification task."
   ]
  },
  {
   "cell_type": "code",
   "execution_count": null,
   "metadata": {
    "colab": {
     "base_uri": "https://localhost:8080/"
    },
    "id": "JjOcSI3R4eHo",
    "outputId": "82b634b9-c57f-4b2f-ca5e-41ef06d784b1"
   },
   "outputs": [
    {
     "name": "stdout",
     "output_type": "stream",
     "text": [
      "Model: \"sequential\"\n",
      "_________________________________________________________________\n",
      " Layer (type)                Output Shape              Param #   \n",
      "=================================================================\n",
      " embedding (Embedding)       (None, None, 16)          160000    \n",
      "                                                                 \n",
      " dropout (Dropout)           (None, None, 16)          0         \n",
      "                                                                 \n",
      " global_average_pooling1d (  (None, 16)                0         \n",
      " GlobalAveragePooling1D)                                         \n",
      "                                                                 \n",
      " dropout_1 (Dropout)         (None, 16)                0         \n",
      "                                                                 \n",
      " dense (Dense)               (None, 1)                 17        \n",
      "                                                                 \n",
      "=================================================================\n",
      "Total params: 160017 (625.07 KB)\n",
      "Trainable params: 160017 (625.07 KB)\n",
      "Non-trainable params: 0 (0.00 Byte)\n",
      "_________________________________________________________________\n"
     ]
    }
   ],
   "source": [
    "model = tf.keras.Sequential([\n",
    "  layers.Embedding(max_features, embedding_dim), #  Definition of a Text Classification Model\n",
    "\n",
    "  layers.Dropout(0.2),\n",
    "  layers.GlobalAveragePooling1D(),\n",
    "  layers.Dropout(0.2),\n",
    "  layers.Dense(1, activation='sigmoid')])\n",
    "\n",
    "model.summary()"
   ]
  },
  {
   "cell_type": "markdown",
   "metadata": {},
   "source": [
    "# <span style=\"color: #FF4500;\">Step 6:</span> <span style=\"color: orange; font-weight: bold;\">Loss Function And Optimizer</span>"
   ]
  },
  {
   "cell_type": "code",
   "execution_count": null,
   "metadata": {
    "id": "g0GO2Q-_4m8Y"
   },
   "outputs": [],
   "source": [
    "model.compile(loss=losses.BinaryCrossentropy(),\n",
    "              optimizer='adam',\n",
    "              metrics=[tf.metrics.BinaryAccuracy(threshold=0.5)])"
   ]
  },
  {
   "cell_type": "markdown",
   "metadata": {
    "id": "g6qOMPJYkoKy"
   },
   "source": [
    "\n",
    "The provided code compiles a defined model for binary classification using binary cross-entropy loss, the Adam optimizer, and binary accuracy as the evaluation metric.\n"
   ]
  },
  {
   "cell_type": "markdown",
   "metadata": {},
   "source": [
    "# <span style=\"color: #FF4500;\">Step 7:</span> <span style=\"color: orange; font-weight: bold;\"> Train The Model</span>"
   ]
  },
  {
   "cell_type": "code",
   "execution_count": null,
   "metadata": {
    "colab": {
     "base_uri": "https://localhost:8080/"
    },
    "id": "M2ZcN1534q1V",
    "outputId": "ecd6a057-17f7-4ca6-829e-e71661ccca1e"
   },
   "outputs": [
    {
     "name": "stdout",
     "output_type": "stream",
     "text": [
      "Epoch 1/10\n",
      "625/625 [==============================] - 9s 12ms/step - loss: 0.6651 - binary_accuracy: 0.6951 - val_loss: 0.6163 - val_binary_accuracy: 0.7720\n",
      "Epoch 2/10\n",
      "625/625 [==============================] - 5s 8ms/step - loss: 0.5505 - binary_accuracy: 0.8011 - val_loss: 0.4991 - val_binary_accuracy: 0.8230\n",
      "Epoch 3/10\n",
      "625/625 [==============================] - 7s 12ms/step - loss: 0.4445 - binary_accuracy: 0.8448 - val_loss: 0.4202 - val_binary_accuracy: 0.8478\n",
      "Epoch 4/10\n",
      "625/625 [==============================] - 6s 10ms/step - loss: 0.3784 - binary_accuracy: 0.8670 - val_loss: 0.3737 - val_binary_accuracy: 0.8608\n",
      "Epoch 5/10\n",
      "625/625 [==============================] - 4s 7ms/step - loss: 0.3353 - binary_accuracy: 0.8798 - val_loss: 0.3449 - val_binary_accuracy: 0.8668\n",
      "Epoch 6/10\n",
      "625/625 [==============================] - 5s 8ms/step - loss: 0.3050 - binary_accuracy: 0.8881 - val_loss: 0.3260 - val_binary_accuracy: 0.8712\n",
      "Epoch 7/10\n",
      "625/625 [==============================] - 4s 7ms/step - loss: 0.2818 - binary_accuracy: 0.8971 - val_loss: 0.3129 - val_binary_accuracy: 0.8734\n",
      "Epoch 8/10\n",
      "625/625 [==============================] - 4s 7ms/step - loss: 0.2617 - binary_accuracy: 0.9049 - val_loss: 0.3033 - val_binary_accuracy: 0.8756\n",
      "Epoch 9/10\n",
      "625/625 [==============================] - 4s 7ms/step - loss: 0.2461 - binary_accuracy: 0.9103 - val_loss: 0.2966 - val_binary_accuracy: 0.8774\n",
      "Epoch 10/10\n",
      "625/625 [==============================] - 5s 8ms/step - loss: 0.2313 - binary_accuracy: 0.9165 - val_loss: 0.2920 - val_binary_accuracy: 0.8784\n"
     ]
    }
   ],
   "source": [
    "epochs = 10 # Compilation of Binary Classification Model\n",
    "\n",
    "history = model.fit(\n",
    "    train_ds,\n",
    "    validation_data=val_ds,\n",
    "    epochs=epochs)"
   ]
  },
  {
   "cell_type": "markdown",
   "metadata": {
    "id": "EHIrj9gCkXGG"
   },
   "source": [
    "The provided code evaluates the model using the test dataset and then prints out the loss and accuracy metrics"
   ]
  },
  {
   "cell_type": "markdown",
   "metadata": {},
   "source": [
    "# <span style=\"color: #FF4500;\">Step 8:</span> <span style=\"color: orange; font-weight: bold;\"> Evaluate the Model</span>"
   ]
  },
  {
   "cell_type": "code",
   "execution_count": null,
   "metadata": {
    "colab": {
     "base_uri": "https://localhost:8080/"
    },
    "id": "HHmMHwUw4vH6",
    "outputId": "dfe21e8b-cd90-4102-86df-da5ef2303827"
   },
   "outputs": [
    {
     "name": "stdout",
     "output_type": "stream",
     "text": [
      "782/782 [==============================] - 5s 6ms/step - loss: 0.3105 - binary_accuracy: 0.8729\n",
      "Loss:  0.3105488121509552\n",
      "Accuracy:  0.8728799819946289\n"
     ]
    }
   ],
   "source": [
    "loss, accuracy = model.evaluate(test_ds) # Model Evaluation on Test Dataset\n",
    "\n",
    "\n",
    "print(\"Loss: \", loss)\n",
    "print(\"Accuracy: \", accuracy)"
   ]
  },
  {
   "cell_type": "markdown",
   "metadata": {
    "id": "o8etXV61lYDy"
   },
   "source": [
    "\n",
    "The provided code snippet accesses the history object's history attribute and then retrieves the keys of the resulting dictionary."
   ]
  },
  {
   "cell_type": "markdown",
   "metadata": {},
   "source": [
    "# <span style=\"color: #FF4500;\">Step 9:</span> <span style=\"color: orange; font-weight: bold;\">Create A Plot of Accuracy And Loss Over Time </span>"
   ]
  },
  {
   "cell_type": "code",
   "execution_count": null,
   "metadata": {
    "colab": {
     "base_uri": "https://localhost:8080/"
    },
    "id": "fJS-8F7h5PLo",
    "outputId": "749fdd9d-a121-4fd9-fe1f-4b421bbdd6c0"
   },
   "outputs": [
    {
     "data": {
      "text/plain": [
       "dict_keys(['loss', 'binary_accuracy', 'val_loss', 'val_binary_accuracy'])"
      ]
     },
     "execution_count": 28,
     "metadata": {},
     "output_type": "execute_result"
    }
   ],
   "source": [
    "history_dict = history.history # # Extracting Keys from Training History Dictionary\n",
    "\n",
    "history_dict.keys()"
   ]
  },
  {
   "cell_type": "markdown",
   "metadata": {
    "id": "i1RapOyOll39"
   },
   "source": [
    "The provided code plots the training and validation loss over epochs using Matplotlib"
   ]
  },
  {
   "cell_type": "code",
   "execution_count": null,
   "metadata": {
    "colab": {
     "base_uri": "https://localhost:8080/",
     "height": 472
    },
    "id": "2sMpfgu_5Uoy",
    "outputId": "3c9a493a-b92b-4e88-9870-eb111bcffff6"
   },
   "outputs": [
    {
     "data": {
      "image/png": "[encoded data removed]",
      "text/plain": [
       "<Figure size 640x480 with 1 Axes>"
      ]
     },
     "metadata": {},
     "output_type": "display_data"
    }
   ],
   "source": [
    "acc = history_dict['binary_accuracy'] # Plotting Training and Validation Loss Over Epochs\n",
    "\n",
    "val_acc = history_dict['val_binary_accuracy']\n",
    "loss = history_dict['loss']\n",
    "val_loss = history_dict['val_loss']\n",
    "\n",
    "epochs = range(1, len(acc) + 1)\n",
    "\n",
    "# \"bo\" is for \"blue dot\"\n",
    "plt.plot(epochs, loss, 'bo', label='Training loss')\n",
    "# b is for \"solid blue line\"\n",
    "plt.plot(epochs, val_loss, 'b', label='Validation loss')\n",
    "plt.title('Training and validation loss')\n",
    "plt.xlabel('Epochs')\n",
    "plt.ylabel('Loss')\n",
    "plt.legend()\n",
    "\n",
    "plt.show()"
   ]
  },
  {
   "cell_type": "markdown",
   "metadata": {
    "id": "4Rb-hDwSl2mi"
   },
   "source": [
    "The provided code plots the training and validation accuracy over epochs using Matplotlib"
   ]
  },
  {
   "cell_type": "code",
   "execution_count": null,
   "metadata": {
    "colab": {
     "base_uri": "https://localhost:8080/",
     "height": 472
    },
    "id": "5hLppc2R5bJg",
    "outputId": "aca0b723-37b9-4f83-aeae-02574546748d"
   },
   "outputs": [
    {
     "data": {
      "image/png": "[encoded data removed]",
      "text/plain": [
       "<Figure size 640x480 with 1 Axes>"
      ]
     },
     "metadata": {},
     "output_type": "display_data"
    }
   ],
   "source": [
    "plt.plot(epochs, acc, 'bo', label='Training acc') # Plotting Training and Validation Accuracy Over Epochs\n",
    "\n",
    "plt.plot(epochs, val_acc, 'b', label='Validation acc')\n",
    "plt.title('Training and validation accuracy')\n",
    "plt.xlabel('Epochs')\n",
    "plt.ylabel('Accuracy')\n",
    "plt.legend(loc='lower right')\n",
    "\n",
    "plt.show()"
   ]
  },
  {
   "cell_type": "markdown",
   "metadata": {
    "id": "I-jh2I6ImF8U"
   },
   "source": [
    "\n",
    "The provided code snippet creates an export model for inference, which includes a vectorization layer and the trained classification model. Then, it compiles the export model and evaluates its performance using a test dataset consisting of raw text strings."
   ]
  },
  {
   "cell_type": "markdown",
   "metadata": {},
   "source": [
    "# <span style=\"color: #FF4500;\">Step 10:</span> <span style=\"color: orange; font-weight: bold;\">  Explore The Model</span>"
   ]
  },
  {
   "cell_type": "code",
   "execution_count": null,
   "metadata": {
    "colab": {
     "base_uri": "https://localhost:8080/"
    },
    "id": "swQsaaEC5fqQ",
    "outputId": "9898021d-1f11-448a-a386-fbb091ec72e7"
   },
   "outputs": [
    {
     "name": "stdout",
     "output_type": "stream",
     "text": [
      "782/782 [==============================] - 5s 7ms/step - loss: 0.5882 - accuracy: 0.5000\n",
      "0.5\n"
     ]
    }
   ],
   "source": [
    "export_model = tf.keras.Sequential([  # # Exporting and Evaluating Model for Inference\n",
    "\n",
    "  vectorize_layer,\n",
    "  model,\n",
    "  layers.Activation('sigmoid')\n",
    "])\n",
    "\n",
    "export_model.compile(\n",
    "    loss=losses.BinaryCrossentropy(from_logits=False), optimizer=\"adam\", metrics=['accuracy']\n",
    ")\n",
    "\n",
    "# Test it with `raw_test_ds`, which yields raw strings\n",
    "loss, accuracy = export_model.evaluate(raw_test_ds)\n",
    "print(accuracy)"
   ]
  },
  {
   "cell_type": "markdown",
   "metadata": {
    "id": "FJ53gR7nmXcS"
   },
   "source": [
    "\n",
    "The provided code snippet creates a TensorFlow constant containing examples of text"
   ]
  },
  {
   "cell_type": "markdown",
   "metadata": {},
   "source": [
    "# <span style=\"color: #FF4500;\">Step 11:</span> <span style=\"color: orange; font-weight: bold;\"> Interface On New Data  </span>"
   ]
  },
  {
   "cell_type": "code",
   "execution_count": null,
   "metadata": {
    "colab": {
     "base_uri": "https://localhost:8080/"
    },
    "id": "isUW5GYV5lnE",
    "outputId": "30797dc1-3c57-4aa0-edde-744ef41faa0c"
   },
   "outputs": [
    {
     "name": "stdout",
     "output_type": "stream",
     "text": [
      "1/1 [==============================] - 0s 129ms/step\n"
     ]
    },
    {
     "data": {
      "text/plain": [
       "array([[0.6466978],\n",
       "       [0.604934 ],\n",
       "       [0.5849364]], dtype=float32)"
      ]
     },
     "execution_count": 32,
     "metadata": {},
     "output_type": "execute_result"
    }
   ],
   "source": [
    "examples = tf.constant([   # Defining Examples of Text Data\n",
    "\n",
    "  \"The movie was great!\",\n",
    "  \"The movie was okay.\",\n",
    "  \"The movie was terrible...\"\n",
    "])\n",
    "\n",
    "export_model.predict(examples)"
   ]
  },
  {
   "cell_type": "markdown",
   "metadata": {},
   "source": [
    "<p style=\"background-color: #800080;font-family:Arial, sans-serif;color:white ;font-size:20px;text-align:center;padding:20px;border-radius:20px;\">\n",
    "   If you found this notebook beneficial, I'd greatly appreciate an upvote! 🌟 Feel free to drop a comment for any questions or suggestions you might have. 📝 Your feedback is valuable and helps me improve. Thank you for your support! 🙏\".<br>\n",
    "    <strong>✨Best Wishes✨</strong>\n",
    "</p>"
   ]
  },
  {
   "cell_type": "code",
   "execution_count": null,
   "metadata": {},
   "outputs": [],
   "source": []
  }
 ],
 "metadata": {
  "colab": {
   "provenance": []
  },
  "kernelspec": {
   "display_name": "Python 3 (ipykernel)",
   "language": "python",
   "name": "python3"
  },
  "language_info": {
   "codemirror_mode": {
    "name": "ipython",
    "version": 3
   },
   "file_extension": ".py",
   "mimetype": "text/x-python",
   "name": "python",
   "nbconvert_exporter": "python",
   "pygments_lexer": "ipython3",
   "version": "3.12.2"
  }
 },
 "nbformat": 4,
 "nbformat_minor": 4
}
